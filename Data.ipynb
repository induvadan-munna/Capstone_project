{
 "cells": [
  {
   "cell_type": "code",
   "execution_count": 1,
   "metadata": {},
   "outputs": [
    {
     "name": "stderr",
     "output_type": "stream",
     "text": [
      "WARNING: You are using pip version 20.1.1; however, version 20.3.3 is available.\n",
      "You should consider upgrading via the 'c:\\users\\munna.iv\\appdata\\local\\programs\\python\\python38-32\\python.exe -m pip install --upgrade pip' command.\n"
     ]
    },
    {
     "name": "stdout",
     "output_type": "stream",
     "text": [
      "Requirement already satisfied: folium in c:\\users\\munna.iv\\appdata\\local\\programs\\python\\python38-32\\lib\\site-packages (0.11.0)\n",
      "Requirement already satisfied: branca>=0.3.0 in c:\\users\\munna.iv\\appdata\\local\\programs\\python\\python38-32\\lib\\site-packages (from folium) (0.4.1)\n",
      "Requirement already satisfied: requests in c:\\users\\munna.iv\\appdata\\local\\programs\\python\\python38-32\\lib\\site-packages (from folium) (2.24.0)\n",
      "Requirement already satisfied: numpy in c:\\users\\munna.iv\\appdata\\local\\programs\\python\\python38-32\\lib\\site-packages (from folium) (1.19.2)\n",
      "Requirement already satisfied: jinja2>=2.9 in c:\\users\\munna.iv\\appdata\\local\\programs\\python\\python38-32\\lib\\site-packages (from folium) (2.11.2)\n",
      "Requirement already satisfied: chardet<4,>=3.0.2 in c:\\users\\munna.iv\\appdata\\local\\programs\\python\\python38-32\\lib\\site-packages (from requests->folium) (3.0.4)\n",
      "Requirement already satisfied: idna<3,>=2.5 in c:\\users\\munna.iv\\appdata\\local\\programs\\python\\python38-32\\lib\\site-packages (from requests->folium) (2.10)\n",
      "Requirement already satisfied: certifi>=2017.4.17 in c:\\users\\munna.iv\\appdata\\local\\programs\\python\\python38-32\\lib\\site-packages (from requests->folium) (2020.6.20)\n",
      "Requirement already satisfied: urllib3!=1.25.0,!=1.25.1,<1.26,>=1.21.1 in c:\\users\\munna.iv\\appdata\\local\\programs\\python\\python38-32\\lib\\site-packages (from requests->folium) (1.25.11)\n",
      "Requirement already satisfied: MarkupSafe>=0.23 in c:\\users\\munna.iv\\appdata\\local\\programs\\python\\python38-32\\lib\\site-packages (from jinja2>=2.9->folium) (1.1.1)\n"
     ]
    }
   ],
   "source": [
    "# Import modules\n",
    "!pip install folium\n",
    "import numpy as np\n",
    "import pandas as pd \n",
    "pd.set_option('display.max_columns', None)\n",
    "pd.set_option('display.max_rows', None)\n",
    "import requests \n",
    "from pandas.io.json import json_normalize \n",
    "import folium"
   ]
  },
  {
   "cell_type": "markdown",
   "metadata": {},
   "source": [
    "### Data"
   ]
  },
  {
   "cell_type": "markdown",
   "metadata": {},
   "source": [
    "I will not be using any external database or dataset as all the data I need can be obtained by using Foursquare API. I will call the nightspots existing in the cities concerned and I will use the data to create some dataframe to cluster the bars. However, this will be more clear on the complete github link.\n",
    "\n",
    "Import API Foursquare keys"
   ]
  },
  {
   "cell_type": "code",
   "execution_count": 2,
   "metadata": {},
   "outputs": [],
   "source": [
    "CLIENT_ID = '1W5TLVXZFWOJO3ZYPQQLHYAH3EOPKOSKJJEUDXQCZKZDUVW1' \n",
    "CLIENT_SECRET = 'ZIGTLKPAKXIKDRXF3BPTCMJ24QI01I502FBMBUGCYSCTTNFF' \n",
    "VERSION = '20210118'"
   ]
  },
  {
   "cell_type": "markdown",
   "metadata": {},
   "source": [
    "cll the url"
   ]
  },
  {
   "cell_type": "code",
   "execution_count": 6,
   "metadata": {},
   "outputs": [],
   "source": [
    "LIMIT = 500 \n",
    "cities = ['Los Angeles', 'New York', 'London', 'Milan', 'Barcelona']\n",
    "results = {}\n",
    "for city in cities:\n",
    "    url = 'https://api.foursquare.com/v2/venues/explore?&client_id={}&client_secret={}&v={}&near={}&limit={}&categoryId={}'.format(\n",
    "        CLIENT_ID, \n",
    "        CLIENT_SECRET, \n",
    "        VERSION, \n",
    "        city,\n",
    "        LIMIT,\n",
    "        '4d4b7105d754a06376d81259') \n",
    "    results[city] = requests.get(url).json()"
   ]
  },
  {
   "cell_type": "code",
   "execution_count": 7,
   "metadata": {},
   "outputs": [],
   "source": [
    "df_venues={}\n",
    "for city in cities:\n",
    "    venues = pd.json_normalize(results[city]['response']['groups'][0]['items'])\n",
    "    df_venues[city] = venues[['venue.name', 'venue.location.address', 'venue.location.lat', 'venue.location.lng']]\n",
    "    df_venues[city].columns = ['Name', 'Address', 'Lat', 'Lng']"
   ]
  },
  {
   "cell_type": "markdown",
   "metadata": {},
   "source": [
    "Define maps and display total number of bar in each city"
   ]
  },
  {
   "cell_type": "code",
   "execution_count": 8,
   "metadata": {},
   "outputs": [
    {
     "name": "stdout",
     "output_type": "stream",
     "text": [
      "Total number of nightlife spots Los Angeles =  138\n",
      "Total number of nightlife spots New York =  200\n",
      "Total number of nightlife spots London =  118\n",
      "Total number of nightlife spots Milan =  99\n",
      "Total number of nightlife spots Barcelona =  113\n"
     ]
    }
   ],
   "source": [
    "maps = {}\n",
    "for city in cities:\n",
    "    city_lat = np.mean([results[city]['response']['geocode']['geometry']['bounds']['ne']['lat'],\n",
    "                        results[city]['response']['geocode']['geometry']['bounds']['sw']['lat']])\n",
    "    city_lng = np.mean([results[city]['response']['geocode']['geometry']['bounds']['ne']['lng'],\n",
    "                        results[city]['response']['geocode']['geometry']['bounds']['sw']['lng']])\n",
    "    maps[city] = folium.Map(location=[city_lat, city_lng], zoom_start=11)\n",
    "\n",
    "    for lat, lng, label in zip(df_venues[city]['Lat'], df_venues[city]['Lng'], df_venues[city]['Name']):\n",
    "        label = folium.Popup(label, parse_html=True)\n",
    "        folium.Marker(\n",
    "            [lat, lng],\n",
    "            radius=5,\n",
    "            popup=label,\n",
    "            color='blue',\n",
    "            fill=True,\n",
    "            fill_color='#3186cc',\n",
    "            fill_opacity=0.6,\n",
    "            parse_html=False).add_to(maps[city])  \n",
    "    print(f\"Total number of nightlife spots {city} = \", results[city]['response']['totalResults'])"
   ]
  },
  {
   "cell_type": "code",
   "execution_count": null,
   "metadata": {},
   "outputs": [],
   "source": []
  }
 ],
 "metadata": {
  "kernelspec": {
   "display_name": "Python 3",
   "language": "python",
   "name": "python3"
  },
  "language_info": {
   "codemirror_mode": {
    "name": "ipython",
    "version": 3
   },
   "file_extension": ".py",
   "mimetype": "text/x-python",
   "name": "python",
   "nbconvert_exporter": "python",
   "pygments_lexer": "ipython3",
   "version": "3.8.5"
  }
 },
 "nbformat": 4,
 "nbformat_minor": 4
}
